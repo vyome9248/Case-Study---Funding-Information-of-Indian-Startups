{
  "nbformat": 4,
  "nbformat_minor": 0,
  "metadata": {
    "colab": {
      "name": "Funding Info of Indian Startups.ipynb",
      "provenance": [],
      "mount_file_id": "1b8-zziZDp7b5JrVucV8oCbP-YMlBIOA-",
      "authorship_tag": "ABX9TyPk3vADp2XwBwfb9OH546OP",
      "include_colab_link": true
    },
    "kernelspec": {
      "name": "python3",
      "display_name": "Python 3"
    },
    "language_info": {
      "name": "python"
    }
  },
  "cells": [
    {
      "cell_type": "markdown",
      "metadata": {
        "id": "view-in-github",
        "colab_type": "text"
      },
      "source": [
        "<a href=\"https://colab.research.google.com/github/vyome9248/Case-Study---Funding-Information-of-Indian-Startups/blob/main/Funding_Info_of_Indian_Startups.ipynb\" target=\"_parent\"><img src=\"https://colab.research.google.com/assets/colab-badge.svg\" alt=\"Open In Colab\"/></a>"
      ]
    },
    {
      "cell_type": "markdown",
      "metadata": {
        "id": "-GCfECWkNSCv"
      },
      "source": [
        "**Load Dependencies**"
      ]
    },
    {
      "cell_type": "code",
      "metadata": {
        "id": "rSztN7s4L8Xf"
      },
      "source": [
        "import numpy as np\n",
        "import pandas as pd\n",
        "import matplotlib.pyplot as plt\n",
        "import warnings\n",
        "warnings.filterwarnings(\"ignore\")"
      ],
      "execution_count": 1,
      "outputs": []
    },
    {
      "cell_type": "markdown",
      "metadata": {
        "id": "BDLXttQFNRWU"
      },
      "source": [
        "***Loading the Data***\n"
      ]
    },
    {
      "cell_type": "code",
      "metadata": {
        "colab": {
          "base_uri": "https://localhost:8080/",
          "height": 666
        },
        "id": "YOJU4E7rNf7k",
        "outputId": "7863365d-02f2-475c-f367-e544881728f5"
      },
      "source": [
        "file_data = pd.read_csv('/content/drive/MyDrive/startup_funding (1).csv')\n",
        "file_data"
      ],
      "execution_count": 2,
      "outputs": [
        {
          "output_type": "execute_result",
          "data": {
            "text/html": [
              "<div>\n",
              "<style scoped>\n",
              "    .dataframe tbody tr th:only-of-type {\n",
              "        vertical-align: middle;\n",
              "    }\n",
              "\n",
              "    .dataframe tbody tr th {\n",
              "        vertical-align: top;\n",
              "    }\n",
              "\n",
              "    .dataframe thead th {\n",
              "        text-align: right;\n",
              "    }\n",
              "</style>\n",
              "<table border=\"1\" class=\"dataframe\">\n",
              "  <thead>\n",
              "    <tr style=\"text-align: right;\">\n",
              "      <th></th>\n",
              "      <th>SNo</th>\n",
              "      <th>Date</th>\n",
              "      <th>StartupName</th>\n",
              "      <th>IndustryVertical</th>\n",
              "      <th>SubVertical</th>\n",
              "      <th>CityLocation</th>\n",
              "      <th>InvestorsName</th>\n",
              "      <th>InvestmentType</th>\n",
              "      <th>AmountInUSD</th>\n",
              "      <th>Remarks</th>\n",
              "    </tr>\n",
              "  </thead>\n",
              "  <tbody>\n",
              "    <tr>\n",
              "      <th>0</th>\n",
              "      <td>0</td>\n",
              "      <td>01/08/2017</td>\n",
              "      <td>TouchKin</td>\n",
              "      <td>Technology</td>\n",
              "      <td>Predictive Care Platform</td>\n",
              "      <td>Bangalore</td>\n",
              "      <td>Kae Capital</td>\n",
              "      <td>Private Equity</td>\n",
              "      <td>1,300,000</td>\n",
              "      <td>NaN</td>\n",
              "    </tr>\n",
              "    <tr>\n",
              "      <th>1</th>\n",
              "      <td>1</td>\n",
              "      <td>02/08/2017</td>\n",
              "      <td>Ethinos</td>\n",
              "      <td>Technology</td>\n",
              "      <td>Digital Marketing Agency</td>\n",
              "      <td>Mumbai</td>\n",
              "      <td>Triton Investment Advisors</td>\n",
              "      <td>Private Equity</td>\n",
              "      <td>NaN</td>\n",
              "      <td>NaN</td>\n",
              "    </tr>\n",
              "    <tr>\n",
              "      <th>2</th>\n",
              "      <td>2</td>\n",
              "      <td>02/08/2017</td>\n",
              "      <td>Leverage Edu</td>\n",
              "      <td>Consumer Internet</td>\n",
              "      <td>Online platform for Higher Education Services</td>\n",
              "      <td>New Delhi</td>\n",
              "      <td>Kashyap Deorah, Anand Sankeshwar, Deepak Jain,...</td>\n",
              "      <td>Seed Funding</td>\n",
              "      <td>NaN</td>\n",
              "      <td>NaN</td>\n",
              "    </tr>\n",
              "    <tr>\n",
              "      <th>3</th>\n",
              "      <td>3</td>\n",
              "      <td>02/08/2017</td>\n",
              "      <td>Zepo</td>\n",
              "      <td>Consumer Internet</td>\n",
              "      <td>DIY Ecommerce platform</td>\n",
              "      <td>Mumbai</td>\n",
              "      <td>Kunal Shah, LetsVenture, Anupam Mittal, Hetal ...</td>\n",
              "      <td>Seed Funding</td>\n",
              "      <td>500,000</td>\n",
              "      <td>NaN</td>\n",
              "    </tr>\n",
              "    <tr>\n",
              "      <th>4</th>\n",
              "      <td>4</td>\n",
              "      <td>02/08/2017</td>\n",
              "      <td>Click2Clinic</td>\n",
              "      <td>Consumer Internet</td>\n",
              "      <td>healthcare service aggregator</td>\n",
              "      <td>Hyderabad</td>\n",
              "      <td>Narottam Thudi, Shireesh Palle</td>\n",
              "      <td>Seed Funding</td>\n",
              "      <td>850,000</td>\n",
              "      <td>NaN</td>\n",
              "    </tr>\n",
              "    <tr>\n",
              "      <th>...</th>\n",
              "      <td>...</td>\n",
              "      <td>...</td>\n",
              "      <td>...</td>\n",
              "      <td>...</td>\n",
              "      <td>...</td>\n",
              "      <td>...</td>\n",
              "      <td>...</td>\n",
              "      <td>...</td>\n",
              "      <td>...</td>\n",
              "      <td>...</td>\n",
              "    </tr>\n",
              "    <tr>\n",
              "      <th>2367</th>\n",
              "      <td>2367</td>\n",
              "      <td>29/01/2015</td>\n",
              "      <td>Printvenue</td>\n",
              "      <td>NaN</td>\n",
              "      <td>NaN</td>\n",
              "      <td>NaN</td>\n",
              "      <td>Asia Pacific Internet Group</td>\n",
              "      <td>Private Equity</td>\n",
              "      <td>4,500,000</td>\n",
              "      <td>NaN</td>\n",
              "    </tr>\n",
              "    <tr>\n",
              "      <th>2368</th>\n",
              "      <td>2368</td>\n",
              "      <td>29/01/2015</td>\n",
              "      <td>Graphene</td>\n",
              "      <td>NaN</td>\n",
              "      <td>NaN</td>\n",
              "      <td>NaN</td>\n",
              "      <td>KARSEMVEN Fund</td>\n",
              "      <td>Private Equity</td>\n",
              "      <td>825,000</td>\n",
              "      <td>Govt backed VC Fund</td>\n",
              "    </tr>\n",
              "    <tr>\n",
              "      <th>2369</th>\n",
              "      <td>2369</td>\n",
              "      <td>30/01/2015</td>\n",
              "      <td>Mad Street Den</td>\n",
              "      <td>NaN</td>\n",
              "      <td>NaN</td>\n",
              "      <td>NaN</td>\n",
              "      <td>Exfinity Fund, GrowX Ventures.</td>\n",
              "      <td>Private Equity</td>\n",
              "      <td>1,500,000</td>\n",
              "      <td>NaN</td>\n",
              "    </tr>\n",
              "    <tr>\n",
              "      <th>2370</th>\n",
              "      <td>2370</td>\n",
              "      <td>30/01/2015</td>\n",
              "      <td>Simplotel</td>\n",
              "      <td>NaN</td>\n",
              "      <td>NaN</td>\n",
              "      <td>NaN</td>\n",
              "      <td>MakeMyTrip</td>\n",
              "      <td>Private Equity</td>\n",
              "      <td>NaN</td>\n",
              "      <td>Strategic Funding, Minority stake</td>\n",
              "    </tr>\n",
              "    <tr>\n",
              "      <th>2371</th>\n",
              "      <td>2371</td>\n",
              "      <td>31/01/2015</td>\n",
              "      <td>couponmachine.in</td>\n",
              "      <td>NaN</td>\n",
              "      <td>NaN</td>\n",
              "      <td>NaN</td>\n",
              "      <td>UK based Group of Angel Investors</td>\n",
              "      <td>Seed Funding</td>\n",
              "      <td>140,000</td>\n",
              "      <td>NaN</td>\n",
              "    </tr>\n",
              "  </tbody>\n",
              "</table>\n",
              "<p>2372 rows × 10 columns</p>\n",
              "</div>"
            ],
            "text/plain": [
              "       SNo        Date  ... AmountInUSD                            Remarks\n",
              "0        0  01/08/2017  ...   1,300,000                                NaN\n",
              "1        1  02/08/2017  ...         NaN                                NaN\n",
              "2        2  02/08/2017  ...         NaN                                NaN\n",
              "3        3  02/08/2017  ...     500,000                                NaN\n",
              "4        4  02/08/2017  ...     850,000                                NaN\n",
              "...    ...         ...  ...         ...                                ...\n",
              "2367  2367  29/01/2015  ...   4,500,000                                NaN\n",
              "2368  2368  29/01/2015  ...     825,000                Govt backed VC Fund\n",
              "2369  2369  30/01/2015  ...   1,500,000                                NaN\n",
              "2370  2370  30/01/2015  ...         NaN  Strategic Funding, Minority stake\n",
              "2371  2371  31/01/2015  ...     140,000                                NaN\n",
              "\n",
              "[2372 rows x 10 columns]"
            ]
          },
          "metadata": {
            "tags": []
          },
          "execution_count": 2
        }
      ]
    },
    {
      "cell_type": "markdown",
      "metadata": {
        "id": "B_ipUNldONHF"
      },
      "source": [
        "***Checking the trend of investments over the years***"
      ]
    },
    {
      "cell_type": "code",
      "metadata": {
        "colab": {
          "base_uri": "https://localhost:8080/",
          "height": 317
        },
        "id": "1qsiIYMQLexA",
        "outputId": "b3e4cc3a-d8ba-41ea-8414-bc8fcad930e5"
      },
      "source": [
        "file_data['year'] = file_data['Date'].astype(str).str[-4:]\n",
        "dic=dict()\n",
        "for i in file_data['year']:\n",
        "    if i in dic.keys():\n",
        "        dic[i]+=1\n",
        "    else:\n",
        "        dic[i]=1\n",
        "\n",
        "xaxis=[]\n",
        "yaxis=[]\n",
        "    \n",
        "for i in dic.keys():\n",
        "    xaxis.append(i)\n",
        "    yaxis.append(dic[i])\n",
        "np_xaxis=np.array(xaxis)\n",
        "np_yaxis=np.array(yaxis)\n",
        "\n",
        "np_yaxis=np_yaxis[np.argsort(np_xaxis)]\n",
        "np_xaxis = np.sort(np_xaxis)\n",
        "\n",
        "plt.plot(np_xaxis,np_yaxis)\n",
        "plt.show()\n",
        "    \n",
        "for i in range(len(np_xaxis)):\n",
        "    print(np_xaxis[i], np_yaxis[i])"
      ],
      "execution_count": 3,
      "outputs": [
        {
          "output_type": "display_data",
          "data": {
            "image/png": "[encoded data removed]",
            "text/plain": [
              "<Figure size 432x288 with 1 Axes>"
            ]
          },
          "metadata": {
            "tags": [],
            "needs_background": "light"
          }
        },
        {
          "output_type": "stream",
          "text": [
            "2015 936\n",
            "2016 993\n",
            "2017 443\n"
          ],
          "name": "stdout"
        }
      ]
    },
    {
      "cell_type": "markdown",
      "metadata": {
        "id": "ZLefBpN2sYOe"
      },
      "source": [
        "***Top 10 Indian Cities with most startups***"
      ]
    },
    {
      "cell_type": "code",
      "metadata": {
        "colab": {
          "base_uri": "https://localhost:8080/",
          "height": 425
        },
        "id": "dz0TTXQ4vXQq",
        "outputId": "34ecc86b-d4c7-40ca-b6c5-64e6e7da9afe"
      },
      "source": [
        "file_data.drop(file_data.index[file_data.CityLocation.isnull()], inplace=True)\n",
        "city=[]\n",
        "for row in file_data['CityLocation']:\n",
        "    city.append(row)\n",
        "np_city=np.array(city)\n",
        "np_city=np_city[np_city != '']\n",
        "    \n",
        "for i in range(len(np_city)):\n",
        "    if 'bangalore' in np_city[i]:\n",
        "        np_city[i]='Bangalore'\n",
        "    if np_city[i]=='Delhi':\n",
        "        np_city[i]='New Delhi'\n",
        "    \n",
        "for i in range(len(np_city)) :\n",
        "    np_city[i]=np_city[i].split('/')[0].strip()\n",
        "dic=dict()\n",
        "for i in np_city:\n",
        "    if i in dic.keys():\n",
        "        dic[i]+=1\n",
        "    else:\n",
        "        dic[i]=1\n",
        "    \n",
        "xaxis=[]\n",
        "yaxis=[]\n",
        "    \n",
        "for i in dic.keys():\n",
        "    xaxis.append(i)\n",
        "    yaxis.append(dic[i])\n",
        "np_xaxis=np.array(xaxis)\n",
        "np_yaxis=np.array(yaxis)\n",
        "    \n",
        "np_xaxis=np_xaxis[np.argsort(np_yaxis)]\n",
        "np_yaxis=np.sort(np_yaxis)\n",
        "np_xaxis=np_xaxis[len(np_xaxis)-1:len(np_xaxis)-1-10:-1]\n",
        "np_yaxis=np_yaxis[len(np_yaxis)-1:len(np_yaxis)-1-10:-1]\n",
        "    \n",
        "\n",
        "plt.pie(np_yaxis, labels=np_xaxis, autopct='%.2f')\n",
        "plt.axis(\"Equal\")\n",
        "plt.show()\n",
        "    \n",
        "for i in range(len(np_xaxis)):\n",
        "    print(np_xaxis[i], np_yaxis[i])"
      ],
      "execution_count": 4,
      "outputs": [
        {
          "output_type": "display_data",
          "data": {
            "image/png": "[encoded data removed]",
            "text/plain": [
              "<Figure size 432x288 with 1 Axes>"
            ]
          },
          "metadata": {
            "tags": []
          }
        },
        {
          "output_type": "stream",
          "text": [
            "Bangalore 635\n",
            "Mumbai 449\n",
            "New Delhi 389\n",
            "Gurgaon 241\n",
            "Pune 91\n",
            "Noida 79\n",
            "Hyderabad 77\n",
            "Chennai 67\n",
            "Ahmedabad 35\n",
            "Jaipur 25\n"
          ],
          "name": "stdout"
        }
      ]
    },
    {
      "cell_type": "markdown",
      "metadata": {
        "id": "IVC4Fli3wiub"
      },
      "source": [
        "***Top 10 Indian cities with most amount of fundings received***"
      ]
    },
    {
      "cell_type": "code",
      "metadata": {
        "colab": {
          "base_uri": "https://localhost:8080/",
          "height": 865
        },
        "id": "HGfZMnOOwdRS",
        "outputId": "42090abd-0d8f-42ba-a75e-62374d91f576"
      },
      "source": [
        "df=file_data.copy()\n",
        "df.drop(df.index[df.CityLocation.isnull()], inplace=True)\n",
        "df.reset_index(inplace=True, drop=True)\n",
        "df.loc[df['AmountInUSD'].isnull(), 'AmountInUSD']='0'\n",
        "df.loc[df.CityLocation=='bangalore','CityLocation']='Bangalore'\n",
        "df.loc[df.CityLocation=='Delhi', 'CityLocation']='New Delhi'\n",
        "city=[]\n",
        "amount=[]\n",
        "for i in df.CityLocation:\n",
        "    city.append(i)\n",
        "for i in df.AmountInUSD:\n",
        "    amount.append(i)\n",
        "\n",
        "for i in range(len(amount)):\n",
        "    amount[i]=''.join(amount[i].split(','))\n",
        "    city[i]=city[i].split('/')[0].strip()\n",
        "np_amount=np.array(amount, dtype='int64')\n",
        "np_city=np.array(city)\n",
        "\n",
        "\n",
        "\n",
        "dic=dict()\n",
        "for i in range(len(np_city)):\n",
        "    if np_city[i] in dic:\n",
        "        dic[np_city[i]]+=np_amount[i]\n",
        "    else:\n",
        "        dic[np_city[i]]=np_amount[i]\n",
        "xaxis=list(dic.keys())\n",
        "yaxis=list(dic.values())\n",
        "\n",
        "np_xaxis=np.array(xaxis)\n",
        "np_yaxis=np.array(yaxis)\n",
        "\n",
        "np_xaxis=np_xaxis[np.argsort(np_yaxis)]\n",
        "np_yaxis=np.sort(np_yaxis)\n",
        "\n",
        "np_xaxis=np_xaxis[len(np_xaxis)-1:len(np_xaxis)-1-10:-1]\n",
        "np_yaxis=np_yaxis[len(np_yaxis)-1:len(np_yaxis)-1-10:-1]\n",
        "\n",
        "plt.subplots(figsize=(15, 10))\n",
        "plt.bar(np_xaxis, np_yaxis, color='red')\n",
        "plt.xticks(rotation=45, size=16)\n",
        "plt.yticks(size=16)\n",
        "plt.xlabel('City', size=16)\n",
        "plt.ylabel('Funding', size=16)\n",
        "plt.show()\n",
        "\n",
        "for i in range(len(np_xaxis)):\n",
        "    print(np_xaxis[i], format((np_yaxis[i]*100)/sum(np_yaxis), '.2f'))"
      ],
      "execution_count": 5,
      "outputs": [
        {
          "output_type": "display_data",
          "data": {
            "image/png": "[encoded data removed]",
            "text/plain": [
              "<Figure size 1080x720 with 1 Axes>"
            ]
          },
          "metadata": {
            "tags": [],
            "needs_background": "light"
          }
        },
        {
          "output_type": "stream",
          "text": [
            "Bangalore 49.71\n",
            "New Delhi 16.63\n",
            "Mumbai 13.90\n",
            "Gurgaon 12.21\n",
            "Chennai 2.43\n",
            "Pune 2.16\n",
            "Hyderabad 1.15\n",
            "Noida 1.01\n",
            "Ahmedabad 0.58\n",
            "Jaipur 0.21\n"
          ],
          "name": "stdout"
        }
      ]
    },
    {
      "cell_type": "markdown",
      "metadata": {
        "id": "LkOvYr5wxTXX"
      },
      "source": [
        "***Percentage of amount funded for each investment type***"
      ]
    },
    {
      "cell_type": "code",
      "metadata": {
        "colab": {
          "base_uri": "https://localhost:8080/",
          "height": 701
        },
        "id": "eUBLAdK2xMHo",
        "outputId": "8e524894-42e4-44c5-b096-4f515e68c2be"
      },
      "source": [
        "df=file_data.copy()\n",
        "df.AmountInUSD.fillna('0', inplace=True)\n",
        "df.InvestmentType.loc[df.InvestmentType=='Crowd funding']='Crowd Funding'\n",
        "df.InvestmentType.loc[df.InvestmentType=='PrivateEquity']='Private Equity'\n",
        "df.InvestmentType.loc[df.InvestmentType=='SeedFunding']='Seed Funding'\n",
        "\n",
        "\n",
        "np_seed_funding=np.array(df.AmountInUSD[df.InvestmentType=='Seed Funding'])\n",
        "for i in range(len(np_seed_funding)):\n",
        "    np_seed_funding[i]=''.join(np_seed_funding[i].split(','))\n",
        "np_seed_funding=np.array(np_seed_funding, dtype='int64')\n",
        "\n",
        "\n",
        "np_Crowd_Funding=np.array(df.AmountInUSD[df.InvestmentType=='Crowd Funding'])\n",
        "for i in range(len(np_Crowd_Funding)):\n",
        "    np_Crowd_Funding[i]=''.join(np_Crowd_Funding[i].split(','))\n",
        "np_Crowd_Funding=np.array(np_Crowd_Funding, dtype='int64')\n",
        "\n",
        "\n",
        "np_Debt_Funding=np.array(df.AmountInUSD[df.InvestmentType=='Debt Funding'])\n",
        "for i in range(len(np_Debt_Funding)):\n",
        "    np_Debt_Funding[i]=''.join(np_Debt_Funding[i].split(','))\n",
        "np_Debt_Funding=np.array(np_Debt_Funding, dtype='int64')\n",
        "\n",
        "\n",
        "np_Private_Equity=np.array(df.AmountInUSD[df.InvestmentType=='Private Equity'])\n",
        "for i in range(len(np_Private_Equity)):\n",
        "    np_Private_Equity[i]=''.join(np_Private_Equity[i].split(','))\n",
        "np_Private_Equity=np.array(np_Private_Equity, dtype='int64')\n",
        "\n",
        "private=sum(np_Private_Equity)\n",
        "crowd=sum(np_Crowd_Funding)\n",
        "debt=sum(np_Debt_Funding)\n",
        "seed=sum(np_seed_funding)\n",
        "xaxis=['Private Equity', 'Seed Funding', 'Debt Funding', 'Crowd Funding']\n",
        "yaxis=[private, seed, debt, crowd]\n",
        "\n",
        "plt.subplots(figsize=(15, 10))\n",
        "plt.scatter(xaxis, yaxis, s=100, color='red', alpha=0.5)\n",
        "plt.xticks(size=16)\n",
        "plt.yticks(size=16)\n",
        "plt.xlabel('Investment Type', size=16)\n",
        "plt.ylabel('Number of Investments', size=16)\n",
        "plt.title('Investment Type Bubble Chart')\n",
        "for i in range(len(xaxis)):\n",
        "    plt.text(xaxis[i], yaxis[i], yaxis[i], size=16)\n",
        "plt.show()\n",
        "\n",
        "for i in range(len(xaxis)):\n",
        "    print(xaxis[i],format((yaxis[i]*100)/sum(yaxis), '.2f'))"
      ],
      "execution_count": 6,
      "outputs": [
        {
          "output_type": "display_data",
          "data": {
            "image/png": "[encoded data removed]",
            "text/plain": [
              "<Figure size 1080x720 with 1 Axes>"
            ]
          },
          "metadata": {
            "tags": [],
            "needs_background": "light"
          }
        },
        {
          "output_type": "stream",
          "text": [
            "Private Equity 98.21\n",
            "Seed Funding 1.75\n",
            "Debt Funding 0.05\n",
            "Crowd Funding 0.00\n"
          ],
          "name": "stdout"
        }
      ]
    },
    {
      "cell_type": "markdown",
      "metadata": {
        "id": "mp3yMtNxwiEv"
      },
      "source": [
        "***Top 5 Industries and percentage of the total amount funded to that industry.***"
      ]
    },
    {
      "cell_type": "code",
      "metadata": {
        "colab": {
          "base_uri": "https://localhost:8080/",
          "height": 925
        },
        "id": "QvhBgxPiwfnE",
        "outputId": "3f3ac951-585b-405d-b935-15c4c517f57a"
      },
      "source": [
        "df=file_data.copy()\n",
        "df.AmountInUSD.loc[df['AmountInUSD'].isnull()]='0'\n",
        "df.drop(df['SNo'].loc[df.IndustryVertical.isnull()], inplace=True)\n",
        "\n",
        "np_industry=np.array(df.IndustryVertical)\n",
        "np_amount=np.array(df.AmountInUSD)\n",
        "np_industry[np_industry=='eCommerce']='Ecommerce'\n",
        "np_industry[np_industry=='ECommerce']='Ecommerce'\n",
        "np_industry[np_industry=='ecommerce']='Ecommerce'\n",
        "\n",
        "for i in range(len(np_amount)):\n",
        "    np_amount[i]=''.join(np_amount[i].split(','))\n",
        "np_amount=np.array(np_amount, dtype='int64')\n",
        "\n",
        "dic=dict()\n",
        "for i in range(len(np_amount)):\n",
        "    if np_industry[i] in dic.keys():\n",
        "        dic[np_industry[i]]+=np_amount[i]\n",
        "    else:\n",
        "        dic[np_industry[i]]=np_amount[i]\n",
        "xaxis=[]\n",
        "yaxis=[]\n",
        "\n",
        "for i in dic.keys():\n",
        "    xaxis.append(i)\n",
        "    yaxis.append(dic[i])\n",
        "np_xaxis=np.array(xaxis)\n",
        "np_yaxis=np.array(yaxis)\n",
        "\n",
        "np_xaxis=np_xaxis[np.argsort(np_yaxis)]\n",
        "np_yaxis=np.sort(np_yaxis)\n",
        "\n",
        "np_xaxis=np_xaxis[len(np_xaxis)-1:len(np_xaxis)-1-5:-1]\n",
        "np_yaxis=np_yaxis[len(np_yaxis)-1:len(np_yaxis)-1-5:-1]\n",
        "\n",
        "plt.subplots(figsize=(15, 10))\n",
        "plt.bar(np_xaxis, np_yaxis, color='yellow')\n",
        "plt.xticks(rotation=45, size=16)\n",
        "plt.xlabel('Industries--->', size=16)\n",
        "plt.ylabel('Amount Funded--->', size=16)\n",
        "plt.yticks(size=16)\n",
        "plt.show()\n",
        "\n",
        "for i in range(len(np_xaxis)):\n",
        "    print(np_xaxis[i], format((np_yaxis[i]*100)/sum(np_yaxis) , '.2f'))"
      ],
      "execution_count": 7,
      "outputs": [
        {
          "output_type": "display_data",
          "data": {
            "image/png": "[encoded data removed]",
            "text/plain": [
              "<Figure size 1080x720 with 1 Axes>"
            ]
          },
          "metadata": {
            "tags": [],
            "needs_background": "light"
          }
        },
        {
          "output_type": "stream",
          "text": [
            "Ecommerce 40.53\n",
            "Consumer Internet 35.95\n",
            "Technology 10.45\n",
            "Online Marketplace 6.63\n",
            "E-Commerce & M-Commerce platform 6.44\n"
          ],
          "name": "stdout"
        }
      ]
    },
    {
      "cell_type": "markdown",
      "metadata": {
        "id": "P_xQjOhWxWb1"
      },
      "source": [
        "***Top 5 startups with most amount of total funding***"
      ]
    },
    {
      "cell_type": "code",
      "metadata": {
        "colab": {
          "base_uri": "https://localhost:8080/"
        },
        "id": "Iv1s1OBExfIL",
        "outputId": "ae4b2a15-94ad-49fe-e0c1-703ac73837d9"
      },
      "source": [
        "df=file_data.copy()\n",
        "df.AmountInUSD.loc[df['AmountInUSD'].isnull()]='0'\n",
        "\n",
        "np_amount=np.array(df.AmountInUSD)\n",
        "np_startup=np.array(df.StartupName)\n",
        "\n",
        "for i in range(len(np_amount)):\n",
        "    np_amount[i]=''.join(np_amount[i].split(','))\n",
        "np_amount=np.array(np_amount, dtype='int64')\n",
        "for i in range(len(np_startup)):\n",
        "    if 'Ola' in np_startup[i]:\n",
        "        np_startup[i]='Ola'\n",
        "    if 'Flipkart' in np_startup[i]:\n",
        "        np_startup[i]='Flipkart'\n",
        "    if 'Oyo' in np_startup[i]:\n",
        "        np_startup[i]='Oyo'\n",
        "    if 'Paytm' in np_startup[i]:\n",
        "        np_startup[i]='Paytm'\n",
        "dic=dict()\n",
        "for i in range(len(np_amount)):\n",
        "    if np_startup[i] in dic.keys():\n",
        "        dic[np_startup[i]]+=np_amount[i]\n",
        "    else:\n",
        "        dic[np_startup[i]]=np_amount[i]\n",
        "        \n",
        "xaxis=[]\n",
        "yaxis=[]\n",
        "for i in dic.keys():\n",
        "    xaxis.append(i)\n",
        "    yaxis.append(dic[i])\n",
        "np_xaxis=np.array(xaxis)\n",
        "np_yaxis=np.array(yaxis)\n",
        "\n",
        "np_xaxis=np_xaxis[np.argsort(np_yaxis)]\n",
        "np_yaxis=np.sort(np_yaxis)\n",
        "\n",
        "np_xaxis=np_xaxis[len(np_xaxis)-1:len(np_xaxis)-1-5:-1]\n",
        "np_yaxis=np_yaxis[len(np_yaxis)-1:len(np_yaxis)-1-5:-1]\n",
        "\n",
        "for i in np_xaxis:\n",
        "    print(i)"
      ],
      "execution_count": 8,
      "outputs": [
        {
          "output_type": "stream",
          "text": [
            "Paytm\n",
            "Flipkart\n",
            "Ola\n",
            "Snapdeal\n",
            "Oyo\n"
          ],
          "name": "stdout"
        }
      ]
    },
    {
      "cell_type": "markdown",
      "metadata": {
        "id": "fItUF3BdyNzp"
      },
      "source": [
        "***Top 5 startups who received the most number of funding rounds. That means, startups which got fundings maximum number of times***"
      ]
    },
    {
      "cell_type": "code",
      "metadata": {
        "colab": {
          "base_uri": "https://localhost:8080/"
        },
        "id": "qKyG70jfyFGj",
        "outputId": "5d75b1b3-0e2e-46a1-936f-559a641c8594"
      },
      "source": [
        "df=file_data.copy()\n",
        "np_startup=np.array(df.StartupName)\n",
        "\n",
        "for i in range(len(np_startup)):\n",
        "    if 'Ola' in np_startup[i]:\n",
        "        np_startup[i]='Ola'\n",
        "    if 'Flipkart' in np_startup[i]:\n",
        "        np_startup[i]='Flipkart'\n",
        "    if 'Oyo' in np_startup[i] or 'OYO Rooms' in np_startup[i]:\n",
        "        np_startup[i]='Oyo'\n",
        "    if 'Paytm' in np_startup[i]:\n",
        "        np_startup[i]='Paytm'\n",
        "\n",
        "dic=dict()\n",
        "for i in np_startup:\n",
        "    if i in dic.keys():\n",
        "        dic[i]+=1\n",
        "    else:\n",
        "        dic[i]=1\n",
        "x=[]\n",
        "y=[]\n",
        "for i in dic.keys():\n",
        "    x.append(i)\n",
        "    y.append(dic[i])\n",
        "np_x=np.array(x)\n",
        "np_y=np.array(y)\n",
        "np_x=np_x[np.argsort(np_y)]\n",
        "np_y=np.sort(np_y)\n",
        "\n",
        "np_x=np_x[len(np_x)-1:len(np_x)-1-5:-1]\n",
        "np_y=np_y[len(np_y)-1:len(np_y)-1-5:-1]\n",
        "\n",
        "\n",
        "\n",
        "\n",
        "for i in range(len(np_x)):\n",
        "    print(np_x[i], np_y[i])"
      ],
      "execution_count": 9,
      "outputs": [
        {
          "output_type": "stream",
          "text": [
            "Ola 9\n",
            "Swiggy 7\n",
            "UrbanClap 6\n",
            "Flipkart 5\n",
            "Oyo 5\n"
          ],
          "name": "stdout"
        }
      ]
    },
    {
      "cell_type": "markdown",
      "metadata": {
        "id": "3zi5LXwFytvY"
      },
      "source": [
        "***The Investors who have invested maximum number of times.***"
      ]
    },
    {
      "cell_type": "code",
      "metadata": {
        "colab": {
          "base_uri": "https://localhost:8080/"
        },
        "id": "Mnox-7RAymXj",
        "outputId": "cb2888c8-d389-4774-a9c6-5a9dc4cffb64"
      },
      "source": [
        "file_data = file_data[~file_data.InvestorsName.str.contains(\"disclosed\")]\n",
        "file_data['InvestorsName'] = file_data['InvestorsName'].astype(str)\n",
        "investors=[]\n",
        "for i in file_data['InvestorsName']:\n",
        "  for k in i.split(','):\n",
        "    investors.append(i.strip())\n",
        "investors_np = np.array(investors)\n",
        "investors_np = investors_np[investors_np != \"\"]\n",
        "dic=dict()\n",
        "for i in investors_np:\n",
        "  if i in dic.keys():\n",
        "    dic[i]+=1\n",
        "  else:\n",
        "    dic[i]=1\n",
        "x=[]\n",
        "y=[]\n",
        "for i in dic.keys():\n",
        "  x.append(i)\n",
        "  y.append(dic[i])\n",
        "np_x=np.array(x)\n",
        "np_y=np.array(y)\n",
        "np_x=np_x[np.argsort(np_y)]\n",
        "np_y=np.sort(np_y)\n",
        "    \n",
        "np_y=np_y[::-1]\n",
        "np_x=np_x[::-1]\n",
        "for k in range(5):\n",
        "  print(np_x[k],np_y[k])\n"
      ],
      "execution_count": 23,
      "outputs": [
        {
          "output_type": "stream",
          "text": [
            "Indian Angel Network 24\n",
            "Ratan Tata 22\n",
            "Kalaari Capital 15\n",
            "Sequoia Capital 12\n",
            "Vijay Shekhar Sharma, Rajan Anandan, Kunal Shah, Girish Mathrubootham, Punit Soni, Anand Chandrasekaran, Sunil Kalra, Utsav Somani, Vishal Gondal, Vikram Limaye 10\n"
          ],
          "name": "stdout"
        }
      ]
    },
    {
      "cell_type": "code",
      "metadata": {
        "id": "tY2SqpmR7zKh"
      },
      "source": [
        ""
      ],
      "execution_count": null,
      "outputs": []
    }
  ]
}